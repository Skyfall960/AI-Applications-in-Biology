{
  "nbformat": 4,
  "nbformat_minor": 0,
  "metadata": {
    "colab": {
      "provenance": []
    },
    "kernelspec": {
      "name": "python3",
      "display_name": "Python 3"
    },
    "language_info": {
      "name": "python"
    }
  },
  "cells": [
    {
      "cell_type": "markdown",
      "source": [
        "Exercise 1: Python Basics\n"
      ],
      "metadata": {
        "id": "khNItzn7q5Ny"
      }
    },
    {
      "cell_type": "code",
      "source": [
        "print('Abigail Shepard')"
      ],
      "metadata": {
        "colab": {
          "base_uri": "https://localhost:8080/"
        },
        "id": "QoUFxeozq7Ot",
        "outputId": "46ef0c4e-5778-4189-ee84-591e99d7bbe8"
      },
      "execution_count": null,
      "outputs": [
        {
          "output_type": "stream",
          "name": "stdout",
          "text": [
            "Abigail Shepard\n"
          ]
        }
      ]
    },
    {
      "cell_type": "markdown",
      "source": [],
      "metadata": {
        "id": "6FcNttierApd"
      }
    },
    {
      "cell_type": "code",
      "source": [
        "num1 = 4\n",
        "num2 = 841\n",
        "print(num1+num2)"
      ],
      "metadata": {
        "colab": {
          "base_uri": "https://localhost:8080/"
        },
        "id": "ywxvRRcVrMR0",
        "outputId": "6bd513dc-6efd-4e62-b273-8de2db26a58f"
      },
      "execution_count": null,
      "outputs": [
        {
          "output_type": "stream",
          "name": "stdout",
          "text": [
            "845\n"
          ]
        }
      ]
    },
    {
      "cell_type": "code",
      "source": [
        "for i in range(5):\n",
        "  print(i+1)"
      ],
      "metadata": {
        "colab": {
          "base_uri": "https://localhost:8080/"
        },
        "id": "xVbG8z4grR0S",
        "outputId": "344db756-f04b-4a9c-9282-569ee77f81a6"
      },
      "execution_count": null,
      "outputs": [
        {
          "output_type": "stream",
          "name": "stdout",
          "text": [
            "1\n",
            "2\n",
            "3\n",
            "4\n",
            "5\n"
          ]
        }
      ]
    },
    {
      "cell_type": "markdown",
      "source": [
        "Exercise 2: Data Types"
      ],
      "metadata": {
        "id": "dCwMe2BzrhHf"
      }
    },
    {
      "cell_type": "code",
      "source": [
        "fruits = ['apple','orange','banana']"
      ],
      "metadata": {
        "id": "E7Vy1uQGrbJh"
      },
      "execution_count": null,
      "outputs": []
    },
    {
      "cell_type": "code",
      "source": [
        "fruits"
      ],
      "metadata": {
        "colab": {
          "base_uri": "https://localhost:8080/"
        },
        "id": "0leXhRVYwyIC",
        "outputId": "0d14de33-a887-4626-c64d-34c38e518ba1"
      },
      "execution_count": null,
      "outputs": [
        {
          "output_type": "execute_result",
          "data": {
            "text/plain": [
              "['apple', 'orange', 'banana']"
            ]
          },
          "metadata": {},
          "execution_count": 46
        }
      ]
    },
    {
      "cell_type": "code",
      "source": [
        "months = ('January','February', 'March')"
      ],
      "metadata": {
        "id": "3IbIz75hrk_2"
      },
      "execution_count": null,
      "outputs": []
    },
    {
      "cell_type": "code",
      "source": [
        "months"
      ],
      "metadata": {
        "colab": {
          "base_uri": "https://localhost:8080/"
        },
        "id": "6YnxGzPPw4Pr",
        "outputId": "fc0a72bb-b135-49c1-f3a6-c71cc018e5d4"
      },
      "execution_count": null,
      "outputs": [
        {
          "output_type": "execute_result",
          "data": {
            "text/plain": [
              "('January', 'February', 'March')"
            ]
          },
          "metadata": {},
          "execution_count": 47
        }
      ]
    },
    {
      "cell_type": "code",
      "source": [
        "countries = {'United States': 331900000,'France': 67750000, 'Egypt': 109300000}"
      ],
      "metadata": {
        "id": "PbZoWywzrvbS"
      },
      "execution_count": null,
      "outputs": []
    },
    {
      "cell_type": "code",
      "source": [
        "countries"
      ],
      "metadata": {
        "colab": {
          "base_uri": "https://localhost:8080/"
        },
        "id": "nIrvMcrEw8Pn",
        "outputId": "f8aaf255-02b2-4d6b-f6f6-d274ddfa0641"
      },
      "execution_count": null,
      "outputs": [
        {
          "output_type": "execute_result",
          "data": {
            "text/plain": [
              "{'United States': 331900000, 'France': 67750000, 'Egypt': 109300000}"
            ]
          },
          "metadata": {},
          "execution_count": 48
        }
      ]
    },
    {
      "cell_type": "markdown",
      "source": [
        "Exercise 3: NumPy Basics"
      ],
      "metadata": {
        "id": "bdyEMw-csiZO"
      }
    },
    {
      "cell_type": "code",
      "source": [
        "import numpy as np"
      ],
      "metadata": {
        "id": "_0IipsHTsSmn"
      },
      "execution_count": null,
      "outputs": []
    },
    {
      "cell_type": "code",
      "source": [
        "array = np.arange(1,6)"
      ],
      "metadata": {
        "id": "7-jcIrVKslhb"
      },
      "execution_count": null,
      "outputs": []
    },
    {
      "cell_type": "code",
      "source": [
        "array"
      ],
      "metadata": {
        "colab": {
          "base_uri": "https://localhost:8080/"
        },
        "id": "bGDK49ZVxBde",
        "outputId": "ef02070c-92ea-4780-f16d-b380058dca34"
      },
      "execution_count": null,
      "outputs": [
        {
          "output_type": "execute_result",
          "data": {
            "text/plain": [
              "array([1, 2, 3, 4, 5])"
            ]
          },
          "metadata": {},
          "execution_count": 49
        }
      ]
    },
    {
      "cell_type": "code",
      "source": [
        "np.mean(array)"
      ],
      "metadata": {
        "colab": {
          "base_uri": "https://localhost:8080/"
        },
        "id": "wAFZDkXqs4eo",
        "outputId": "bd8011e6-2109-49bb-d01d-ae6e602cdf22"
      },
      "execution_count": null,
      "outputs": [
        {
          "output_type": "execute_result",
          "data": {
            "text/plain": [
              "3.0"
            ]
          },
          "metadata": {},
          "execution_count": 16
        }
      ]
    },
    {
      "cell_type": "code",
      "source": [
        "array1 = np.random.randint(1, 11, size=(2, 3))"
      ],
      "metadata": {
        "id": "Tzmk01pKtBF9"
      },
      "execution_count": null,
      "outputs": []
    },
    {
      "cell_type": "code",
      "source": [
        "array1"
      ],
      "metadata": {
        "colab": {
          "base_uri": "https://localhost:8080/"
        },
        "id": "dUjr-HpltWtp",
        "outputId": "5070bf0f-63c8-4b3b-bd34-be77a5592569"
      },
      "execution_count": null,
      "outputs": [
        {
          "output_type": "execute_result",
          "data": {
            "text/plain": [
              "array([[ 7,  8, 10],\n",
              "       [10,  9,  5]])"
            ]
          },
          "metadata": {},
          "execution_count": 25
        }
      ]
    },
    {
      "cell_type": "code",
      "source": [
        "array1.reshape(3,2)"
      ],
      "metadata": {
        "colab": {
          "base_uri": "https://localhost:8080/"
        },
        "id": "hgUd88IDuS1R",
        "outputId": "4ea19bce-acd7-4a89-dcaa-7dde96a00ef8"
      },
      "execution_count": null,
      "outputs": [
        {
          "output_type": "execute_result",
          "data": {
            "text/plain": [
              "array([[ 7,  8],\n",
              "       [10, 10],\n",
              "       [ 9,  5]])"
            ]
          },
          "metadata": {},
          "execution_count": 27
        }
      ]
    },
    {
      "cell_type": "markdown",
      "source": [
        "Exercise 4: NumPy Array Operations"
      ],
      "metadata": {
        "id": "MkU73c2JuZP3"
      }
    },
    {
      "cell_type": "code",
      "source": [
        "array1 = np.array([1,2,3])\n",
        "array2 = np.array([4,5,6])"
      ],
      "metadata": {
        "id": "0BpNt3XFuVDL"
      },
      "execution_count": null,
      "outputs": []
    },
    {
      "cell_type": "code",
      "source": [
        "array1+array2"
      ],
      "metadata": {
        "colab": {
          "base_uri": "https://localhost:8080/"
        },
        "id": "UZsrztphxWNy",
        "outputId": "72163af7-05af-4256-cb04-96e79e228b20"
      },
      "execution_count": null,
      "outputs": [
        {
          "output_type": "execute_result",
          "data": {
            "text/plain": [
              "array([5, 7, 9])"
            ]
          },
          "metadata": {},
          "execution_count": 50
        }
      ]
    },
    {
      "cell_type": "code",
      "source": [
        "np.concatenate((array1,array2), axis = None)"
      ],
      "metadata": {
        "colab": {
          "base_uri": "https://localhost:8080/"
        },
        "id": "j30msgnGvJd0",
        "outputId": "8079b593-5925-47e1-d7ac-3cd8bbd6a055"
      },
      "execution_count": null,
      "outputs": [
        {
          "output_type": "execute_result",
          "data": {
            "text/plain": [
              "array([1, 2, 3, 4, 5, 6])"
            ]
          },
          "metadata": {},
          "execution_count": 37
        }
      ]
    },
    {
      "cell_type": "code",
      "source": [
        "array1 * array2"
      ],
      "metadata": {
        "colab": {
          "base_uri": "https://localhost:8080/"
        },
        "id": "JfhQetQ0vbaa",
        "outputId": "9675a288-ad75-4373-df19-57b36683fc21"
      },
      "execution_count": null,
      "outputs": [
        {
          "output_type": "execute_result",
          "data": {
            "text/plain": [
              "array([ 4, 10, 18])"
            ]
          },
          "metadata": {},
          "execution_count": 38
        }
      ]
    },
    {
      "cell_type": "markdown",
      "source": [
        "Exercise 5: NumPy Indexing and Slicing"
      ],
      "metadata": {
        "id": "xiNJW1_vvl-b"
      }
    },
    {
      "cell_type": "code",
      "source": [
        "oldArray = np.array([10,20,30,40,50])"
      ],
      "metadata": {
        "id": "wS35HyHjvio7"
      },
      "execution_count": null,
      "outputs": []
    },
    {
      "cell_type": "code",
      "source": [
        "oldArray"
      ],
      "metadata": {
        "id": "-o4OKDnexips",
        "outputId": "2698ecf4-c989-408e-aeb9-bb99cffc7c9c",
        "colab": {
          "base_uri": "https://localhost:8080/"
        }
      },
      "execution_count": null,
      "outputs": [
        {
          "output_type": "execute_result",
          "data": {
            "text/plain": [
              "array([10, 20, 30, 40, 50])"
            ]
          },
          "metadata": {},
          "execution_count": 51
        }
      ]
    },
    {
      "cell_type": "code",
      "source": [
        "print(oldArray[3])"
      ],
      "metadata": {
        "colab": {
          "base_uri": "https://localhost:8080/"
        },
        "id": "YZ_raC5tv0DQ",
        "outputId": "d43bad1f-6d2b-4abf-c1ab-5fd8409c2057"
      },
      "execution_count": null,
      "outputs": [
        {
          "output_type": "stream",
          "name": "stdout",
          "text": [
            "40\n"
          ]
        }
      ]
    },
    {
      "cell_type": "code",
      "source": [
        "newArray = oldArray[1:4]"
      ],
      "metadata": {
        "id": "JdbebBRhv26Y"
      },
      "execution_count": null,
      "outputs": []
    },
    {
      "cell_type": "code",
      "source": [
        "newArray"
      ],
      "metadata": {
        "colab": {
          "base_uri": "https://localhost:8080/"
        },
        "id": "lfnEE5fwv9ci",
        "outputId": "151ac438-d3cc-445e-c39d-b94af7ead587"
      },
      "execution_count": null,
      "outputs": [
        {
          "output_type": "execute_result",
          "data": {
            "text/plain": [
              "array([20, 30, 40])"
            ]
          },
          "metadata": {},
          "execution_count": 45
        }
      ]
    }
  ]
}