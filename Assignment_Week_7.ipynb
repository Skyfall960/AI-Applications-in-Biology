{
  "nbformat": 4,
  "nbformat_minor": 0,
  "metadata": {
    "colab": {
      "provenance": []
    },
    "kernelspec": {
      "name": "python3",
      "display_name": "Python 3"
    },
    "language_info": {
      "name": "python"
    }
  },
  "cells": [
    {
      "cell_type": "markdown",
      "source": [
        "- Load the Kyphosis dataset from \"https://raw.githubusercontent.com/pena-rodrigo/artificial/main/kyphosis.csv\""
      ],
      "metadata": {
        "id": "Ap0hSpYs4dOg"
      }
    },
    {
      "cell_type": "code",
      "execution_count": 3,
      "metadata": {
        "id": "f6IfcRos4RP9"
      },
      "outputs": [],
      "source": [
        "import numpy as np\n",
        "import pandas as pd\n",
        "\n",
        "df = pd.read_csv('https://raw.githubusercontent.com/pena-rodrigo/artificial/main/kyphosis.csv')"
      ]
    },
    {
      "cell_type": "markdown",
      "source": [
        "- Define\n",
        "\n",
        "X = df.drop('Kyphosis',axis=1)\n",
        "y = df['Kyphosis']\n",
        "\n",
        "then divide the data into training and testing with a 0.3 ratio."
      ],
      "metadata": {
        "id": "JYjoU4aL4p11"
      }
    },
    {
      "cell_type": "code",
      "source": [
        "X = df.drop('Kyphosis',axis=1)\n",
        "y = df['Kyphosis']"
      ],
      "metadata": {
        "id": "eC_tCbqx4r4l"
      },
      "execution_count": 4,
      "outputs": []
    },
    {
      "cell_type": "code",
      "source": [
        "from sklearn.model_selection import train_test_split\n",
        "random_seed = 54\n",
        "X_train, X_test,y_train,y_test = train_test_split(X,y,test_size = 0.3, random_state = random_seed)"
      ],
      "metadata": {
        "id": "5jdPZZwj6e1t"
      },
      "execution_count": 5,
      "outputs": []
    },
    {
      "cell_type": "markdown",
      "source": [
        "- For this assignment, you need to define a random seed:\n",
        "random_seed = 54,  and use the option random_state=random_seed in the train_test_split function as well as for\n",
        "DecisionTreeClassifier, RandomForestClassifier, AdaBoostClassifier. It is not necessary to use it for GaussianNB.\n",
        "\n",
        "- Implement, train, and test DecisionTreeClassifier, RandomForestClassifier with\n",
        "n_estimators=200, AdaBoostClassifier with n_estimators=500, and GaussianNB()."
      ],
      "metadata": {
        "id": "Fu2oKm7c4xi5"
      }
    },
    {
      "cell_type": "code",
      "source": [
        "from sklearn.metrics import classification_report, confusion_matrix\n",
        "\n",
        "from sklearn.tree import DecisionTreeClassifier\n",
        "dtree = DecisionTreeClassifier(random_state=random_seed)\n",
        "\n",
        "from sklearn.ensemble import RandomForestClassifier\n",
        "rfc = RandomForestClassifier(n_estimators = 200, random_state = random_seed)\n",
        "\n",
        "from sklearn.ensemble import AdaBoostClassifier\n",
        "clf = AdaBoostClassifier(n_estimators=500,random_state=random_seed)\n",
        "\n",
        "from sklearn.naive_bayes import GaussianNB\n",
        "gnb = GaussianNB()"
      ],
      "metadata": {
        "id": "sCEC2IDH4x94"
      },
      "execution_count": 16,
      "outputs": []
    },
    {
      "cell_type": "code",
      "source": [
        "dtree.fit(X_train,y_train)\n",
        "prediction = dtree.predict(X_test)\n",
        "\n",
        "print(classification_report(y_test,prediction))\n",
        "print(confusion_matrix(y_test,prediction))"
      ],
      "metadata": {
        "colab": {
          "base_uri": "https://localhost:8080/"
        },
        "id": "FqT52G4b4373",
        "outputId": "223339ef-1bca-4d67-fecd-e0326030ee04"
      },
      "execution_count": 17,
      "outputs": [
        {
          "output_type": "stream",
          "name": "stdout",
          "text": [
            "              precision    recall  f1-score   support\n",
            "\n",
            "      absent       0.88      0.79      0.83        19\n",
            "     present       0.50      0.67      0.57         6\n",
            "\n",
            "    accuracy                           0.76        25\n",
            "   macro avg       0.69      0.73      0.70        25\n",
            "weighted avg       0.79      0.76      0.77        25\n",
            "\n",
            "[[15  4]\n",
            " [ 2  4]]\n"
          ]
        }
      ]
    },
    {
      "cell_type": "code",
      "source": [
        "rfc.fit(X_train,y_train)\n",
        "prediction = rfc.predict(X_test)\n",
        "\n",
        "print(classification_report(y_test,prediction))\n",
        "print(confusion_matrix(y_test,prediction))"
      ],
      "metadata": {
        "colab": {
          "base_uri": "https://localhost:8080/"
        },
        "id": "U0TZAR6M7n0C",
        "outputId": "1b60fe74-f46d-4479-8d12-5937bec74dba"
      },
      "execution_count": 15,
      "outputs": [
        {
          "output_type": "stream",
          "name": "stdout",
          "text": [
            "              precision    recall  f1-score   support\n",
            "\n",
            "      absent       0.81      0.89      0.85        19\n",
            "     present       0.50      0.33      0.40         6\n",
            "\n",
            "    accuracy                           0.76        25\n",
            "   macro avg       0.65      0.61      0.62        25\n",
            "weighted avg       0.74      0.76      0.74        25\n",
            "\n",
            "[[17  2]\n",
            " [ 4  2]]\n"
          ]
        }
      ]
    },
    {
      "cell_type": "code",
      "source": [
        "clf.fit(X_train,y_train)\n",
        "prediction = clf.predict(X_test)\n",
        "\n",
        "print(classification_report(y_test,prediction))\n",
        "print(confusion_matrix(y_test,prediction))"
      ],
      "metadata": {
        "colab": {
          "base_uri": "https://localhost:8080/"
        },
        "id": "KUVMcMh48FAL",
        "outputId": "2f99ad64-7d79-4299-d092-726860f9052d"
      },
      "execution_count": 11,
      "outputs": [
        {
          "output_type": "stream",
          "name": "stdout",
          "text": [
            "              precision    recall  f1-score   support\n",
            "\n",
            "      absent       0.88      0.79      0.83        19\n",
            "     present       0.50      0.67      0.57         6\n",
            "\n",
            "    accuracy                           0.76        25\n",
            "   macro avg       0.69      0.73      0.70        25\n",
            "weighted avg       0.79      0.76      0.77        25\n",
            "\n",
            "[[15  4]\n",
            " [ 2  4]]\n"
          ]
        }
      ]
    },
    {
      "cell_type": "code",
      "source": [
        "gnb.fit(X_train,y_train)\n",
        "prediction = gnb.predict(X_test)\n",
        "\n",
        "print(classification_report(y_test,prediction))\n",
        "print(confusion_matrix(y_test,prediction))"
      ],
      "metadata": {
        "colab": {
          "base_uri": "https://localhost:8080/"
        },
        "id": "1wVvS0P_8ad7",
        "outputId": "aa0f1d3e-c708-454a-859a-fdfe1266bc71"
      },
      "execution_count": 13,
      "outputs": [
        {
          "output_type": "stream",
          "name": "stdout",
          "text": [
            "              precision    recall  f1-score   support\n",
            "\n",
            "      absent       0.86      0.95      0.90        19\n",
            "     present       0.75      0.50      0.60         6\n",
            "\n",
            "    accuracy                           0.84        25\n",
            "   macro avg       0.80      0.72      0.75        25\n",
            "weighted avg       0.83      0.84      0.83        25\n",
            "\n",
            "[[18  1]\n",
            " [ 3  3]]\n"
          ]
        }
      ]
    }
  ]
}