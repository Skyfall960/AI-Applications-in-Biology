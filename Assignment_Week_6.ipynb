{
  "nbformat": 4,
  "nbformat_minor": 0,
  "metadata": {
    "colab": {
      "provenance": []
    },
    "kernelspec": {
      "name": "python3",
      "display_name": "Python 3"
    },
    "language_info": {
      "name": "python"
    }
  },
  "cells": [
    {
      "cell_type": "markdown",
      "source": [
        "### Question 1: Wine Dataset - Regression"
      ],
      "metadata": {
        "id": "m9XMLkeBOYN3"
      }
    },
    {
      "cell_type": "markdown",
      "source": [
        "a) Load the Wine dataset using scikit-learn."
      ],
      "metadata": {
        "id": "89nnnaabOQtO"
      }
    },
    {
      "cell_type": "code",
      "execution_count": 6,
      "metadata": {
        "id": "bFzIcFLUOKIx"
      },
      "outputs": [],
      "source": [
        "from sklearn.datasets import load_wine\n",
        "\n",
        "wine = load_wine()"
      ]
    },
    {
      "cell_type": "markdown",
      "source": [
        "b) Choose one feature as the independent variable and the alcohol content as the dependent variable. Split the dataset into training and testing sets. You should use:\n",
        "X = wine.data[:, 11]\n",
        "y = wine.target"
      ],
      "metadata": {
        "id": "KTDdQtdtOSir"
      }
    },
    {
      "cell_type": "code",
      "source": [
        "from sklearn.model_selection import train_test_split\n",
        "from sklearn.linear_model import LinearRegression\n",
        "\n",
        "X = wine.data[:, 11]\n",
        "y = wine.target\n",
        "\n",
        "X_train, X_test, y_train, y_test = train_test_split(X, y, test_size=0.5, random_state=42)"
      ],
      "metadata": {
        "id": "PjQNDIvtOU3K"
      },
      "execution_count": 10,
      "outputs": []
    },
    {
      "cell_type": "markdown",
      "source": [
        "c) Implement linear regression. Train and evaluate each model."
      ],
      "metadata": {
        "id": "WB1N0CwkOVai"
      }
    },
    {
      "cell_type": "code",
      "source": [
        "model = LinearRegression()\n",
        "model.fit(X_train.reshape(-1, 1), y_train)\n",
        "\n",
        "print(model.score(X_test.reshape(-1, 1), y_test))\n"
      ],
      "metadata": {
        "colab": {
          "base_uri": "https://localhost:8080/"
        },
        "id": "skaEtQihOXjJ",
        "outputId": "2125c258-153a-4c78-8c58-7f753df328d2"
      },
      "execution_count": 15,
      "outputs": [
        {
          "output_type": "stream",
          "name": "stdout",
          "text": [
            "0.6247025757659173\n"
          ]
        }
      ]
    },
    {
      "cell_type": "markdown",
      "source": [
        "### Question 2: Diabetes Dataset - Regression"
      ],
      "metadata": {
        "id": "N_ElPuxxOf6j"
      }
    },
    {
      "cell_type": "markdown",
      "source": [
        "a) Load the Diabetes dataset using scikit-learn."
      ],
      "metadata": {
        "id": "cLoBKBfaOj9c"
      }
    },
    {
      "cell_type": "code",
      "source": [
        "from sklearn.datasets import load_diabetes\n",
        "\n",
        "diabetes = load_diabetes()"
      ],
      "metadata": {
        "id": "PwP8ZKG7Oi3C"
      },
      "execution_count": 16,
      "outputs": []
    },
    {
      "cell_type": "markdown",
      "source": [
        "b) Choose two features as independent variables and the target variable as the dependent variable, use\n",
        "X = diabetes.data[:, [2, 5]]\n",
        "y = diabetes.target. Split the dataset into training and testing sets."
      ],
      "metadata": {
        "id": "eZwbFMDQOneA"
      }
    },
    {
      "cell_type": "code",
      "source": [
        "X = diabetes.data[:, [2, 5]]\n",
        "y = diabetes.target\n",
        "\n",
        "X_train, X_test, y_train, y_test = train_test_split(X, y, test_size=0.5, random_state=42)"
      ],
      "metadata": {
        "id": "L8MqJ-rqOpQB"
      },
      "execution_count": 18,
      "outputs": []
    },
    {
      "cell_type": "markdown",
      "source": [
        "c) Implement linear regression. Train and evaluate each model."
      ],
      "metadata": {
        "id": "KIfOCyunOqFa"
      }
    },
    {
      "cell_type": "code",
      "source": [
        "model = LinearRegression().fit(X_train, y_train)\n",
        "print(model.score(X_test, y_test))"
      ],
      "metadata": {
        "colab": {
          "base_uri": "https://localhost:8080/"
        },
        "id": "FCuE4fTyOr3-",
        "outputId": "32216b28-91d3-4bc8-faf5-98b6b3046b7a"
      },
      "execution_count": 23,
      "outputs": [
        {
          "output_type": "stream",
          "name": "stdout",
          "text": [
            "0.26143266036219026\n"
          ]
        }
      ]
    },
    {
      "cell_type": "markdown",
      "source": [
        "d) Implement KNN with 30 neighbors."
      ],
      "metadata": {
        "id": "rDQaNGXNOs7M"
      }
    },
    {
      "cell_type": "code",
      "source": [
        "from sklearn.neighbors import KNeighborsRegressor\n",
        "\n",
        "knn = KNeighborsRegressor(n_neighbors=30)\n",
        "knn.fit(X_train, y_train)\n",
        "\n",
        "print(knn.score(X_test, y_test))"
      ],
      "metadata": {
        "colab": {
          "base_uri": "https://localhost:8080/"
        },
        "id": "bljK6i51OuPS",
        "outputId": "83e9812a-835a-4090-e001-3a558d0f00d9"
      },
      "execution_count": 28,
      "outputs": [
        {
          "output_type": "stream",
          "name": "stdout",
          "text": [
            "0.2705087027691876\n"
          ]
        }
      ]
    }
  ]
}