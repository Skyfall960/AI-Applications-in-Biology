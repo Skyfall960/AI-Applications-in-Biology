{
  "nbformat": 4,
  "nbformat_minor": 0,
  "metadata": {
    "colab": {
      "provenance": []
    },
    "kernelspec": {
      "name": "python3",
      "display_name": "Python 3"
    },
    "language_info": {
      "name": "python"
    }
  },
  "cells": [
    {
      "cell_type": "markdown",
      "source": [
        "# Exercise 1: Advanced NumPy Operations"
      ],
      "metadata": {
        "id": "IlKgmplwd7O8"
      }
    },
    {
      "cell_type": "code",
      "execution_count": null,
      "metadata": {
        "id": "UHjkZNTud0wo"
      },
      "outputs": [],
      "source": [
        "import numpy as np"
      ]
    },
    {
      "cell_type": "markdown",
      "source": [
        "a) Create a 5x5 matrix with random integer values from a normal distribution (use NumPy's randn)"
      ],
      "metadata": {
        "id": "a5V8abCrktQM"
      }
    },
    {
      "cell_type": "code",
      "source": [
        "arr = np.rint(12 + 6*np.random.randn(5,5)).astype(int)"
      ],
      "metadata": {
        "id": "un2d8opBeR7G"
      },
      "execution_count": 70,
      "outputs": []
    },
    {
      "cell_type": "code",
      "source": [
        "arr"
      ],
      "metadata": {
        "colab": {
          "base_uri": "https://localhost:8080/"
        },
        "id": "82C8n9eneiAj",
        "outputId": "bc02113f-555d-4fcf-f148-f970c1f70848"
      },
      "execution_count": 71,
      "outputs": [
        {
          "output_type": "execute_result",
          "data": {
            "text/plain": [
              "array([[22, 19, 16, 16, 15],\n",
              "       [10, 17,  9, 18,  5],\n",
              "       [22, 11,  9, 22, 11],\n",
              "       [ 4, 15, 20, 20,  9],\n",
              "       [ 5, 16, 21,  1,  3]])"
            ]
          },
          "metadata": {},
          "execution_count": 71
        }
      ]
    },
    {
      "cell_type": "code",
      "source": [
        "from scipy import linalg"
      ],
      "metadata": {
        "id": "-x8seZPqeif8"
      },
      "execution_count": 72,
      "outputs": []
    },
    {
      "cell_type": "markdown",
      "source": [
        "b) Find the determinant of the matrix."
      ],
      "metadata": {
        "id": "KNLxAFr4kvmT"
      }
    },
    {
      "cell_type": "code",
      "source": [
        "linalg.det(arr)"
      ],
      "metadata": {
        "colab": {
          "base_uri": "https://localhost:8080/"
        },
        "id": "6KqcR57VfKIN",
        "outputId": "ec6a28ce-785c-494e-be78-d420fb08f78d"
      },
      "execution_count": 73,
      "outputs": [
        {
          "output_type": "execute_result",
          "data": {
            "text/plain": [
              "451751.9999999999"
            ]
          },
          "metadata": {},
          "execution_count": 73
        }
      ]
    },
    {
      "cell_type": "markdown",
      "source": [
        "Exercise 2: Linear Algebra with NumPy"
      ],
      "metadata": {
        "id": "vVbwJUrcfQtE"
      }
    },
    {
      "cell_type": "markdown",
      "source": [
        "a) Create a 3x3 matrix A with values [1, 2, 3] in the first row, [4, 5, 6] in the second row, and [7, 8, 9] in the third row."
      ],
      "metadata": {
        "id": "wbmNGdUzkx7V"
      }
    },
    {
      "cell_type": "code",
      "source": [
        "A = np.array([[1,2,3],[4,5,6],[7,8,9]])"
      ],
      "metadata": {
        "id": "knMebNpffLuC"
      },
      "execution_count": null,
      "outputs": []
    },
    {
      "cell_type": "code",
      "source": [
        "A"
      ],
      "metadata": {
        "colab": {
          "base_uri": "https://localhost:8080/"
        },
        "id": "l6KvYxzVfZfL",
        "outputId": "bace7440-bbf9-4f3f-8a00-4ec9a63563b8"
      },
      "execution_count": null,
      "outputs": [
        {
          "output_type": "execute_result",
          "data": {
            "text/plain": [
              "array([[1, 2, 3],\n",
              "       [4, 5, 6],\n",
              "       [7, 8, 9]])"
            ]
          },
          "metadata": {},
          "execution_count": 9
        }
      ]
    },
    {
      "cell_type": "markdown",
      "source": [
        "b) Create a vector B with values [10, 11, 12]."
      ],
      "metadata": {
        "id": "NIhS_WDuk0LW"
      }
    },
    {
      "cell_type": "code",
      "source": [
        "B = [10,11,12]"
      ],
      "metadata": {
        "id": "uK1SL-ThfZ_C"
      },
      "execution_count": null,
      "outputs": []
    },
    {
      "cell_type": "markdown",
      "source": [
        "c) Compute the dot product of A and B."
      ],
      "metadata": {
        "id": "_zH6CMeNk2fI"
      }
    },
    {
      "cell_type": "code",
      "source": [
        "np.dot(A,B)"
      ],
      "metadata": {
        "colab": {
          "base_uri": "https://localhost:8080/"
        },
        "id": "92t-7D5EfwMk",
        "outputId": "f677a197-4c8f-46a0-bbce-9fa69b9c6043"
      },
      "execution_count": null,
      "outputs": [
        {
          "output_type": "execute_result",
          "data": {
            "text/plain": [
              "array([ 68, 167, 266])"
            ]
          },
          "metadata": {},
          "execution_count": 11
        }
      ]
    },
    {
      "cell_type": "markdown",
      "source": [
        "d) Calculate the eigenvalues and eigenvectors of matrix A."
      ],
      "metadata": {
        "id": "cpuV_diylIIY"
      }
    },
    {
      "cell_type": "code",
      "source": [
        "EW,EV = linalg.eig(A)"
      ],
      "metadata": {
        "id": "gsMmY2MBfxS6"
      },
      "execution_count": null,
      "outputs": []
    },
    {
      "cell_type": "code",
      "source": [
        "EW,EV"
      ],
      "metadata": {
        "colab": {
          "base_uri": "https://localhost:8080/"
        },
        "id": "_8aJtpEPf6rp",
        "outputId": "f7c8af04-2dbe-4873-e16a-7d6bef59472e"
      },
      "execution_count": null,
      "outputs": [
        {
          "output_type": "execute_result",
          "data": {
            "text/plain": [
              "(array([ 1.61168440e+01+0.j, -1.11684397e+00+0.j, -1.30367773e-15+0.j]),\n",
              " array([[-0.23197069, -0.78583024,  0.40824829],\n",
              "        [-0.52532209, -0.08675134, -0.81649658],\n",
              "        [-0.8186735 ,  0.61232756,  0.40824829]]))"
            ]
          },
          "metadata": {},
          "execution_count": 13
        }
      ]
    },
    {
      "cell_type": "markdown",
      "source": [
        "Exercise 3: Introductory SciPy Operations"
      ],
      "metadata": {
        "id": "1C3itUOXf-hv"
      }
    },
    {
      "cell_type": "markdown",
      "source": [
        "a) Import the SciPy library."
      ],
      "metadata": {
        "id": "lNFE4irZlLlt"
      }
    },
    {
      "cell_type": "code",
      "source": [
        "import scipy\n",
        "from scipy import linalg"
      ],
      "metadata": {
        "id": "5VHfmVPqf7dr"
      },
      "execution_count": null,
      "outputs": []
    },
    {
      "cell_type": "markdown",
      "source": [
        "b) Use SciPy to solve the system of linear equations:"
      ],
      "metadata": {
        "id": "k-U2x9EBlOKk"
      }
    },
    {
      "cell_type": "code",
      "source": [
        "x = np.array([[2,1],[4,-3]])\n",
        "y = np.array([5,2])"
      ],
      "metadata": {
        "id": "arSDDw0EgKr3"
      },
      "execution_count": null,
      "outputs": []
    },
    {
      "cell_type": "code",
      "source": [
        "s = linalg.solve(x,y)"
      ],
      "metadata": {
        "id": "Sb679QzTgT3V"
      },
      "execution_count": null,
      "outputs": []
    },
    {
      "cell_type": "code",
      "source": [
        "s"
      ],
      "metadata": {
        "colab": {
          "base_uri": "https://localhost:8080/"
        },
        "id": "C4iH_R4_gWrT",
        "outputId": "6b40860e-e47d-4044-8e55-40e96f527a4e"
      },
      "execution_count": null,
      "outputs": [
        {
          "output_type": "execute_result",
          "data": {
            "text/plain": [
              "array([1.7, 1.6])"
            ]
          },
          "metadata": {},
          "execution_count": 26
        }
      ]
    },
    {
      "cell_type": "markdown",
      "source": [
        "Exercise 4: Basic Statistical Analysis with SciPy\n"
      ],
      "metadata": {
        "id": "_zw8cHDZhaao"
      }
    },
    {
      "cell_type": "code",
      "source": [
        "from scipy import stats"
      ],
      "metadata": {
        "id": "Px-Izn0Di5yt"
      },
      "execution_count": null,
      "outputs": []
    },
    {
      "cell_type": "markdown",
      "source": [
        "a) Generate a random sample of 100 values."
      ],
      "metadata": {
        "id": "af2hkEkplQp9"
      }
    },
    {
      "cell_type": "code",
      "source": [
        "random_sample = np.random.randn(100)"
      ],
      "metadata": {
        "id": "e5pG6uNchYLM"
      },
      "execution_count": null,
      "outputs": []
    },
    {
      "cell_type": "code",
      "source": [
        "random_sample"
      ],
      "metadata": {
        "colab": {
          "base_uri": "https://localhost:8080/"
        },
        "id": "BJjnnUpShxUT",
        "outputId": "60507818-983a-4bde-a4a2-243cc2ce1473"
      },
      "execution_count": null,
      "outputs": [
        {
          "output_type": "execute_result",
          "data": {
            "text/plain": [
              "array([-0.51622995,  0.10075293, -0.22679269,  0.90827671,  1.55733561,\n",
              "       -0.19381754,  0.72322041,  1.5484051 ,  0.29953896,  0.53998319,\n",
              "        0.211166  , -0.20013444,  0.14727521,  2.04636537, -1.94049507,\n",
              "       -0.09793255,  0.6287668 , -1.30892405,  0.36140844,  0.13359196,\n",
              "       -1.17091963,  0.23506872,  0.7205163 , -0.66381102,  0.00603553,\n",
              "        1.2982286 ,  1.84195642,  0.39492389,  0.13181372, -0.83267065,\n",
              "       -0.35029276,  0.29088094, -0.24151056,  0.69118159,  0.14561029,\n",
              "       -1.5097125 ,  0.03506531,  1.22408586, -0.13016538, -0.76996451,\n",
              "        0.61649833, -0.204652  , -1.08602832,  1.13128965, -1.55983915,\n",
              "        0.40135617,  1.95152378, -0.13231098, -0.48641647, -2.13037611,\n",
              "        1.46957735,  1.99733619,  1.02094816, -1.08365156, -1.69866041,\n",
              "       -0.53980696,  0.56949288,  1.54238671,  0.94269332,  0.555583  ,\n",
              "       -0.72095633,  0.81564341,  0.85752242, -1.29675332,  0.06058094,\n",
              "        0.83387124, -0.29914119,  0.3270193 ,  0.88596516, -1.39375095,\n",
              "        0.02159967, -0.72304523, -0.54998973,  0.46776049, -0.17178509,\n",
              "       -1.69427841,  0.19484298,  0.19359333,  1.07419316, -1.52370043,\n",
              "        0.26608064,  0.81153041,  0.76070825, -0.82293765, -0.33322649,\n",
              "        0.06383465, -0.36699074, -0.11721745, -0.54771986, -1.00788816,\n",
              "       -0.7852741 , -1.78235146,  0.51594615,  1.73580355,  0.28461582,\n",
              "        1.47131414,  0.15244468, -2.20897237, -1.10480792,  0.94065633])"
            ]
          },
          "metadata": {},
          "execution_count": 33
        }
      ]
    },
    {
      "cell_type": "markdown",
      "source": [
        "b) Use SciPy to calculate the mean and median"
      ],
      "metadata": {
        "id": "bammdeEIlUKU"
      }
    },
    {
      "cell_type": "code",
      "source": [
        "mean_val = scipy.mean(random_sample)"
      ],
      "metadata": {
        "colab": {
          "base_uri": "https://localhost:8080/"
        },
        "id": "GtrLx_Z5ieen",
        "outputId": "cd006519-82c3-4d7d-e879-5dfa22d81988"
      },
      "execution_count": null,
      "outputs": [
        {
          "output_type": "stream",
          "name": "stderr",
          "text": [
            "<ipython-input-51-867921fc4ed2>:1: DeprecationWarning: scipy.mean is deprecated and will be removed in SciPy 2.0.0, use numpy.mean instead\n",
            "  mean_val = scipy.mean(random_sample)\n"
          ]
        }
      ]
    },
    {
      "cell_type": "code",
      "source": [
        "mean_val"
      ],
      "metadata": {
        "colab": {
          "base_uri": "https://localhost:8080/"
        },
        "id": "kLxeCyH6itXH",
        "outputId": "8bed4aef-181f-4f96-fdc5-cb92f6905ebe"
      },
      "execution_count": null,
      "outputs": [
        {
          "output_type": "execute_result",
          "data": {
            "text/plain": [
              "0.046297640134847606"
            ]
          },
          "metadata": {},
          "execution_count": 52
        }
      ]
    },
    {
      "cell_type": "code",
      "source": [
        "median_val = scipy.median(random_sample)"
      ],
      "metadata": {
        "colab": {
          "base_uri": "https://localhost:8080/"
        },
        "id": "_7D5Yg_fltYF",
        "outputId": "2ccf5bec-3edd-496b-c6db-968f0be81ed0"
      },
      "execution_count": null,
      "outputs": [
        {
          "output_type": "stream",
          "name": "stderr",
          "text": [
            "<ipython-input-54-b1661fd83f7e>:1: DeprecationWarning: scipy.median is deprecated and will be removed in SciPy 2.0.0, use numpy.median instead\n",
            "  median_val = scipy.median(random_sample)\n"
          ]
        }
      ]
    },
    {
      "cell_type": "code",
      "source": [
        "median_val"
      ],
      "metadata": {
        "id": "UstofSasl8kM",
        "outputId": "64f79e9e-4b44-4a68-d1a4-9cacf36cfed3",
        "colab": {
          "base_uri": "https://localhost:8080/"
        }
      },
      "execution_count": null,
      "outputs": [
        {
          "output_type": "execute_result",
          "data": {
            "text/plain": [
              "0.13270283976659447"
            ]
          },
          "metadata": {},
          "execution_count": 55
        }
      ]
    }
  ]
}